{
 "cells": [
  {
   "cell_type": "code",
   "execution_count": 1,
   "id": "f58221d6",
   "metadata": {},
   "outputs": [],
   "source": [
    "import gym\n",
    "import numpy as np\n",
    "import torch\n",
    "import torch.nn as nn\n",
    "\n",
    "import matplotlib.pyplot as plt\n",
    "import time\n"
   ]
  },
  {
   "cell_type": "code",
   "execution_count": 2,
   "id": "3b882b97",
   "metadata": {},
   "outputs": [],
   "source": [
    "from neural_nets import q_network, p_network, d_network\n",
    "from sample_env import EnvSampler\n",
    "from replay_memory import MemoryElement, ReplayMemory\n",
    "from models import DynamicEnsemble, SAC\n",
    "from utils import get_memories_torch\n",
    "\n"
   ]
  },
  {
   "cell_type": "code",
   "execution_count": 3,
   "id": "1d91c7cd",
   "metadata": {},
   "outputs": [],
   "source": [
    "mem = ReplayMemory(10001)"
   ]
  },
  {
   "cell_type": "code",
   "execution_count": 3,
   "id": "044aef74",
   "metadata": {},
   "outputs": [],
   "source": [
    "env_name = 'Ant-v4'\n",
    "env = EnvSampler(env_name, env_number = 10)"
   ]
  },
  {
   "cell_type": "code",
   "execution_count": 5,
   "id": "88337157",
   "metadata": {},
   "outputs": [
    {
     "name": "stdout",
     "output_type": "stream",
     "text": [
      "Box(-1.0, 1.0, (8,), float32)\n",
      "Box(-inf, inf, (27,), float64)\n",
      "(27, 8)\n"
     ]
    }
   ],
   "source": [
    "print(env.action_space)\n",
    "print(env.observation_space)\n",
    "print(env.dim)\n",
    "\n",
    "obs_dim, act_dim = env.dim"
   ]
  },
  {
   "cell_type": "code",
   "execution_count": 6,
   "id": "8ac801a2",
   "metadata": {},
   "outputs": [
    {
     "name": "stdout",
     "output_type": "stream",
     "text": [
      "1000\n"
     ]
    }
   ],
   "source": [
    "for _ in range(1):\n",
    "    for i in range(1000):\n",
    "        this = env.sample()\n",
    "        if not isinstance(this[0], MemoryElement):\n",
    "            print(this)\n",
    "        mem.push(this)\n",
    "\n",
    "    states, actions, rewards, next_states, terminals, truncateds = mem.sample_numpy()\n",
    "    \n",
    "print(len(mem))"
   ]
  },
  {
   "cell_type": "code",
   "execution_count": 7,
   "id": "79f8bb89",
   "metadata": {},
   "outputs": [],
   "source": [
    "agent = SAC(env)"
   ]
  },
  {
   "cell_type": "code",
   "execution_count": 8,
   "id": "e8204469",
   "metadata": {
    "scrolled": false
   },
   "outputs": [],
   "source": [
    "agent.update_params(mem.sample())\n"
   ]
  },
  {
   "cell_type": "code",
   "execution_count": 14,
   "id": "f893593b",
   "metadata": {},
   "outputs": [
    {
     "name": "stdout",
     "output_type": "stream",
     "text": [
      "tensor([-0.0779, -0.9887,  0.6766,  0.3233,  0.3385,  0.9366,  0.1510, -0.5666],\n",
      "       device='cuda:0', dtype=torch.float64)\n"
     ]
    }
   ],
   "source": [
    "obs = env.observation_space.sample()\n",
    "acted, log_prob = agent.act(obs, to_cpu= False)\n",
    "\n",
    "print(acted)"
   ]
  },
  {
   "cell_type": "code",
   "execution_count": 9,
   "id": "9a738868",
   "metadata": {},
   "outputs": [],
   "source": [
    "states, actions, rewards, next_states, terminals, truncateds = mem.sample_numpy()"
   ]
  },
  {
   "cell_type": "code",
   "execution_count": 11,
   "id": "45ffcd05",
   "metadata": {},
   "outputs": [
    {
     "data": {
      "text/plain": [
       "(256, 1)"
      ]
     },
     "execution_count": 11,
     "metadata": {},
     "output_type": "execute_result"
    }
   ],
   "source": [
    "rewards.shape"
   ]
  },
  {
   "cell_type": "code",
   "execution_count": 12,
   "id": "7d5f87c6",
   "metadata": {},
   "outputs": [
    {
     "name": "stdout",
     "output_type": "stream",
     "text": [
      "(256, 27)\n",
      "(256,)\n"
     ]
    }
   ],
   "source": [
    "print(next_states.shape)\n",
    "print(rewards.shape)"
   ]
  },
  {
   "cell_type": "code",
   "execution_count": 7,
   "id": "9de5c391",
   "metadata": {},
   "outputs": [],
   "source": [
    "model = DynamicEnsemble(5, env)"
   ]
  },
  {
   "cell_type": "code",
   "execution_count": 8,
   "id": "25227367",
   "metadata": {},
   "outputs": [],
   "source": [
    "model.update_params(mem)"
   ]
  },
  {
   "cell_type": "code",
   "execution_count": 9,
   "id": "d1112604",
   "metadata": {},
   "outputs": [],
   "source": [
    "next_state, reward = model.forward_all(states,actions, to_cpu=False)"
   ]
  },
  {
   "cell_type": "code",
   "execution_count": 10,
   "id": "d225134a",
   "metadata": {},
   "outputs": [
    {
     "data": {
      "text/plain": [
       "torch.Size([5, 256, 27])"
      ]
     },
     "execution_count": 10,
     "metadata": {},
     "output_type": "execute_result"
    }
   ],
   "source": [
    "next_state.shape"
   ]
  },
  {
   "cell_type": "code",
   "execution_count": 16,
   "id": "1aaa3603",
   "metadata": {},
   "outputs": [],
   "source": [
    "dnet = d_network(obs_dim, act_dim)\n",
    "dnet_out = dnet(states,actions)\n",
    "dnet_sample = dnet.sample(states,actions)\n",
    "\n",
    "pnet = p_network(obs_dim, act_dim)\n",
    "mean, log = pnet(states)\n",
    "pnet_sample = pnet(states)\n",
    "\n",
    "\n",
    "qnet = q_network(obs_dim, act_dim)\n",
    "qnet_out1, qnet_out2 = qnet(states,actions)"
   ]
  },
  {
   "cell_type": "code",
   "execution_count": 15,
   "id": "fee064b8",
   "metadata": {
    "scrolled": true
   },
   "outputs": [
    {
     "name": "stdout",
     "output_type": "stream",
     "text": [
      "dnet\n",
      "torch.Size([15, 28])\n",
      "torch.Size([15, 28])\n",
      "torch.Size([15, 28])\n",
      "pnet\n",
      "torch.Size([15, 8])\n",
      "torch.Size([15, 8])\n"
     ]
    },
    {
     "ename": "TypeError",
     "evalue": "'tuple' object does not support item assignment",
     "output_type": "error",
     "traceback": [
      "\u001b[0;31m---------------------------------------------------------------------------\u001b[0m",
      "\u001b[0;31mTypeError\u001b[0m                                 Traceback (most recent call last)",
      "\u001b[0;32m/tmp/ipykernel_24089/3155935385.py\u001b[0m in \u001b[0;36m<module>\u001b[0;34m\u001b[0m\n\u001b[1;32m      7\u001b[0m \u001b[0mprint\u001b[0m\u001b[0;34m(\u001b[0m\u001b[0mpnet_out\u001b[0m\u001b[0;34m[\u001b[0m\u001b[0;36m0\u001b[0m\u001b[0;34m]\u001b[0m\u001b[0;34m.\u001b[0m\u001b[0mshape\u001b[0m\u001b[0;34m)\u001b[0m\u001b[0;34m\u001b[0m\u001b[0;34m\u001b[0m\u001b[0m\n\u001b[1;32m      8\u001b[0m \u001b[0mprint\u001b[0m\u001b[0;34m(\u001b[0m\u001b[0mpnet_out\u001b[0m\u001b[0;34m[\u001b[0m\u001b[0;36m1\u001b[0m\u001b[0;34m]\u001b[0m\u001b[0;34m.\u001b[0m\u001b[0mshape\u001b[0m\u001b[0;34m)\u001b[0m\u001b[0;34m\u001b[0m\u001b[0;34m\u001b[0m\u001b[0m\n\u001b[0;32m----> 9\u001b[0;31m \u001b[0mpnet_out\u001b[0m\u001b[0;34m[\u001b[0m\u001b[0;36m1\u001b[0m\u001b[0;34m]\u001b[0m \u001b[0;34m=\u001b[0m \u001b[0mtorch\u001b[0m\u001b[0;34m.\u001b[0m\u001b[0mclamp\u001b[0m\u001b[0;34m(\u001b[0m\u001b[0mpnet_out\u001b[0m\u001b[0;34m[\u001b[0m\u001b[0;36m1\u001b[0m\u001b[0;34m]\u001b[0m\u001b[0;34m,\u001b[0m \u001b[0mmin\u001b[0m\u001b[0;34m=\u001b[0m\u001b[0;34m-\u001b[0m\u001b[0;36m20\u001b[0m\u001b[0;34m,\u001b[0m \u001b[0mmax\u001b[0m\u001b[0;34m=\u001b[0m\u001b[0;36m2\u001b[0m\u001b[0;34m)\u001b[0m\u001b[0;34m\u001b[0m\u001b[0;34m\u001b[0m\u001b[0m\n\u001b[0m\u001b[1;32m     10\u001b[0m \u001b[0mprint\u001b[0m\u001b[0;34m(\u001b[0m\u001b[0mpnet_sample\u001b[0m\u001b[0;34m[\u001b[0m\u001b[0;36m0\u001b[0m\u001b[0;34m]\u001b[0m\u001b[0;34m.\u001b[0m\u001b[0mshape\u001b[0m\u001b[0;34m)\u001b[0m\u001b[0;34m\u001b[0m\u001b[0;34m\u001b[0m\u001b[0m\n\u001b[1;32m     11\u001b[0m \u001b[0mprint\u001b[0m\u001b[0;34m(\u001b[0m\u001b[0mpnet_sample\u001b[0m\u001b[0;34m[\u001b[0m\u001b[0;36m1\u001b[0m\u001b[0;34m]\u001b[0m\u001b[0;34m.\u001b[0m\u001b[0mshape\u001b[0m\u001b[0;34m)\u001b[0m\u001b[0;34m\u001b[0m\u001b[0;34m\u001b[0m\u001b[0m\n",
      "\u001b[0;31mTypeError\u001b[0m: 'tuple' object does not support item assignment"
     ]
    }
   ],
   "source": [
    "print('dnet')\n",
    "print(dnet_out[0].shape)\n",
    "print(dnet_out[1].shape)\n",
    "print(dnet_sample.shape)\n",
    "\n",
    "print('pnet')\n",
    "print(pnet_out[0].shape)\n",
    "print(pnet_out[1].shape)\n",
    "print(pnet_sample[0].shape)\n",
    "print(pnet_sample[1].shape)\n",
    "print('qnet')\n",
    "\n",
    "print(qnet_out1.shape)\n",
    "print(qnet_out2.shape)"
   ]
  },
  {
   "cell_type": "code",
   "execution_count": 6,
   "id": "404793a9",
   "metadata": {},
   "outputs": [
    {
     "data": {
      "text/plain": [
       "<sample_env.EnvSampler at 0x7f59d4a26160>"
      ]
     },
     "execution_count": 6,
     "metadata": {},
     "output_type": "execute_result"
    }
   ],
   "source": [
    "env"
   ]
  },
  {
   "cell_type": "code",
   "execution_count": null,
   "id": "efab8d51",
   "metadata": {},
   "outputs": [],
   "source": []
  }
 ],
 "metadata": {
  "kernelspec": {
   "display_name": "Python 3 (ipykernel)",
   "language": "python",
   "name": "python3"
  },
  "language_info": {
   "codemirror_mode": {
    "name": "ipython",
    "version": 3
   },
   "file_extension": ".py",
   "mimetype": "text/x-python",
   "name": "python",
   "nbconvert_exporter": "python",
   "pygments_lexer": "ipython3",
   "version": "3.9.13"
  }
 },
 "nbformat": 4,
 "nbformat_minor": 5
}
