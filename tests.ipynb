{
 "cells": [
  {
   "cell_type": "code",
   "execution_count": 1,
   "id": "f58221d6",
   "metadata": {},
   "outputs": [],
   "source": [
    "import gym\n",
    "import numpy as np\n",
    "import torch\n",
    "import torch.nn as nn\n",
    "\n",
    "import matplotlib.pyplot as plt\n",
    "import time\n",
    "from tqdm import trange"
   ]
  },
  {
   "cell_type": "code",
   "execution_count": 2,
   "id": "3b882b97",
   "metadata": {},
   "outputs": [],
   "source": [
    "from neural_nets import q_network, p_network, d_network\n",
    "from sample_env import EnvSampler\n",
    "from replay_memory import MemoryElement, ReplayMemory\n",
    "from models import DynamicEnsemble, SAC\n",
    "from utils import get_memories_torch\n",
    "\n"
   ]
  },
  {
   "cell_type": "code",
   "execution_count": 3,
   "id": "f4f722b0",
   "metadata": {},
   "outputs": [],
   "source": [
    "env_ant = gym.make('Ant-v4')\n",
    "env_hopper = gym.make(\"Hopper-v4\")\n",
    "env_humanoid = gym.make(\"Humanoid-v4\")\n",
    "env_cheetah = gym.make(\"HalfCheetah-v4\")\n",
    "\n",
    "envs = [env_ant, env_hopper, env_humanoid, env_cheetah]"
   ]
  },
  {
   "cell_type": "code",
   "execution_count": 16,
   "id": "70c3e34e",
   "metadata": {},
   "outputs": [
    {
     "name": "stdout",
     "output_type": "stream",
     "text": [
      "Help on method body in module mujoco._structs:\n",
      "\n",
      "body(...) method of mujoco._structs.MjData instance\n",
      "    body(*args, **kwargs)\n",
      "    Overloaded function.\n",
      "    \n",
      "    1. body(self: mujoco._structs.MjData, arg0: int) -> mujoco::python::MjDataBodyViews\n",
      "    \n",
      "    2. body(self: mujoco._structs.MjData, arg0: str) -> mujoco::python::MjDataBodyViews\n",
      "\n"
     ]
    }
   ],
   "source": [
    "help(env_cheetah.data.body)"
   ]
  },
  {
   "cell_type": "code",
   "execution_count": 4,
   "id": "1d91c7cd",
   "metadata": {},
   "outputs": [],
   "source": [
    "mem = ReplayMemory(10001)"
   ]
  },
  {
   "cell_type": "code",
   "execution_count": 8,
   "id": "044aef74",
   "metadata": {},
   "outputs": [],
   "source": [
    "env_name = 'HalfCheetah-v4'\n",
    "env = EnvSampler(env_name, env_number = 10)"
   ]
  },
  {
   "cell_type": "code",
   "execution_count": 9,
   "id": "88337157",
   "metadata": {},
   "outputs": [
    {
     "name": "stdout",
     "output_type": "stream",
     "text": [
      "Box(-1.0, 1.0, (6,), float32)\n",
      "Box(-inf, inf, (17,), float64)\n",
      "(17, 6)\n"
     ]
    }
   ],
   "source": [
    "print(env.action_space)\n",
    "print(env.observation_space)\n",
    "print(env.dim)\n",
    "\n",
    "obs_dim, act_dim = env.dim"
   ]
  },
  {
   "cell_type": "code",
   "execution_count": 10,
   "id": "8ac801a2",
   "metadata": {},
   "outputs": [
    {
     "name": "stdout",
     "output_type": "stream",
     "text": [
      "10000\n"
     ]
    }
   ],
   "source": [
    "for _ in range(1):\n",
    "    for i in range(1000):\n",
    "        this = env.sample()\n",
    "        if not isinstance(this[0], MemoryElement):\n",
    "            print(this)\n",
    "        mem.push(this)\n",
    "\n",
    "    states, actions, rewards, next_states, terminals, truncateds = mem.sample_numpy()\n",
    "    \n",
    "print(len(mem))"
   ]
  },
  {
   "cell_type": "code",
   "execution_count": 11,
   "id": "1e443ca7",
   "metadata": {},
   "outputs": [],
   "source": [
    "def evaluate(agent, env):\n",
    "    env.reset()\n",
    "\n",
    "    trajectories = [[] for i in range(len(env))]\n",
    "\n",
    "    rewards = [0. for i in range(len(env))]\n",
    "    complete_trajectories = []\n",
    "    complete_indexes = []\n",
    "    while True:\n",
    "        memories = env.sample(agent=agent)\n",
    "\n",
    "        for ix, mem in enumerate(memories):\n",
    "            if ix in complete_indexes:\n",
    "                continue\n",
    "\n",
    "            trajectories[ix].append(mem)\n",
    "            rewards[ix] += mem.reward\n",
    "            \n",
    "            if mem.terminal or mem.truncated:\n",
    "                complete_trajectories.append(trajectories[ix])\n",
    "                complete_indexes.append(ix)\n",
    "\n",
    "        if len(complete_indexes) == len(env):\n",
    "            break\n",
    "\n",
    "    lengths = np.asarray([len(traj) for traj in complete_trajectories])\n",
    "    rewards = np.asarray(rewards)\n",
    "    \n",
    "    return rewards.mean(), rewards.std(), lengths.mean(), lengths.std()"
   ]
  },
  {
   "cell_type": "code",
   "execution_count": 15,
   "id": "79f8bb89",
   "metadata": {},
   "outputs": [],
   "source": [
    "agent = SAC(env)"
   ]
  },
  {
   "cell_type": "code",
   "execution_count": 16,
   "id": "367816ac",
   "metadata": {},
   "outputs": [
    {
     "data": {
      "text/plain": [
       "(-516.493025750014, 84.3960863672085, 1000.0, 0.0)"
      ]
     },
     "execution_count": 16,
     "metadata": {},
     "output_type": "execute_result"
    }
   ],
   "source": [
    "evaluate(agent,env)"
   ]
  },
  {
   "cell_type": "code",
   "execution_count": 17,
   "id": "798df1d6",
   "metadata": {},
   "outputs": [],
   "source": [
    "means_fwd = []\n",
    "means_ctrl = []"
   ]
  },
  {
   "cell_type": "code",
   "execution_count": 16,
   "id": "ee572a1a",
   "metadata": {},
   "outputs": [
    {
     "name": "stderr",
     "output_type": "stream",
     "text": [
      "100%|███████████████████████████████████████████| 10/10 [02:24<00:00, 14.44s/it]\n"
     ]
    }
   ],
   "source": [
    "for ep in trange(10):\n",
    "\n",
    "    \n",
    "\n",
    "    rewards,_, lengths,_ = evaluate(agent, env)\n",
    "    rewards, lengths = np.mean(rewards), np.mean(lengths)\n",
    "\n",
    "    means_fwd.append(rewards)\n",
    "    means_ctrl.append(lengths)\n",
    "    \n",
    "    for i in range(100):\n",
    "        agent.update_params(mem.sample())"
   ]
  },
  {
   "cell_type": "code",
   "execution_count": 17,
   "id": "791ee3eb",
   "metadata": {},
   "outputs": [
    {
     "data": {
      "image/png": "[encoded data removed]",
      "text/plain": [
       "<Figure size 640x480 with 1 Axes>"
      ]
     },
     "metadata": {},
     "output_type": "display_data"
    },
    {
     "data": {
      "image/png": "[encoded data removed]",
      "text/plain": [
       "<Figure size 640x480 with 1 Axes>"
      ]
     },
     "metadata": {},
     "output_type": "display_data"
    }
   ],
   "source": [
    "plt.plot(means_fwd)\n",
    "plt.show()\n",
    "plt.plot(means_ctrl)\n",
    "plt.show()"
   ]
  },
  {
   "cell_type": "code",
   "execution_count": 20,
   "id": "f893593b",
   "metadata": {
    "scrolled": false
   },
   "outputs": [
    {
     "name": "stdout",
     "output_type": "stream",
     "text": [
      "Help on TimeLimit in module gym.wrappers.time_limit object:\n",
      "\n",
      "class TimeLimit(gym.core.Wrapper)\n",
      " |  TimeLimit(env: gym.core.Env, max_episode_steps: Optional[int] = None)\n",
      " |  \n",
      " |  This wrapper will issue a `truncated` signal if a maximum number of timesteps is exceeded.\n",
      " |  \n",
      " |  If a truncation is not defined inside the environment itself, this is the only place that the truncation signal is issued.\n",
      " |  Critically, this is different from the `terminated` signal that originates from the underlying environment as part of the MDP.\n",
      " |  \n",
      " |  Example:\n",
      " |     >>> from gym.envs.classic_control import CartPoleEnv\n",
      " |     >>> from gym.wrappers import TimeLimit\n",
      " |     >>> env = CartPoleEnv()\n",
      " |     >>> env = TimeLimit(env, max_episode_steps=1000)\n",
      " |  \n",
      " |  Method resolution order:\n",
      " |      TimeLimit\n",
      " |      gym.core.Wrapper\n",
      " |      gym.core.Env\n",
      " |      typing.Generic\n",
      " |      builtins.object\n",
      " |  \n",
      " |  Methods defined here:\n",
      " |  \n",
      " |  __init__(self, env: gym.core.Env, max_episode_steps: Optional[int] = None)\n",
      " |      Initializes the :class:`TimeLimit` wrapper with an environment and the number of steps after which truncation will occur.\n",
      " |      \n",
      " |      Args:\n",
      " |          env: The environment to apply the wrapper\n",
      " |          max_episode_steps: An optional max episode steps (if ``Ǹone``, ``env.spec.max_episode_steps`` is used)\n",
      " |  \n",
      " |  reset(self, **kwargs)\n",
      " |      Resets the environment with :param:`**kwargs` and sets the number of steps elapsed to zero.\n",
      " |      \n",
      " |      Args:\n",
      " |          **kwargs: The kwargs to reset the environment with\n",
      " |      \n",
      " |      Returns:\n",
      " |          The reset environment\n",
      " |  \n",
      " |  step(self, action)\n",
      " |      Steps through the environment and if the number of steps elapsed exceeds ``max_episode_steps`` then truncate.\n",
      " |      \n",
      " |      Args:\n",
      " |          action: The environment step action\n",
      " |      \n",
      " |      Returns:\n",
      " |          The environment step ``(observation, reward, terminated, truncated, info)`` with `truncated=True`\n",
      " |          if the number of steps elapsed >= max episode steps\n",
      " |  \n",
      " |  ----------------------------------------------------------------------\n",
      " |  Data and other attributes defined here:\n",
      " |  \n",
      " |  __parameters__ = ()\n",
      " |  \n",
      " |  ----------------------------------------------------------------------\n",
      " |  Methods inherited from gym.core.Wrapper:\n",
      " |  \n",
      " |  __getattr__(self, name)\n",
      " |      Returns an attribute with ``name``, unless ``name`` starts with an underscore.\n",
      " |  \n",
      " |  __repr__(self)\n",
      " |      Returns the string representation of the wrapper.\n",
      " |  \n",
      " |  __str__(self)\n",
      " |      Returns the wrapper name and the unwrapped environment string.\n",
      " |  \n",
      " |  close(self)\n",
      " |      Closes the environment.\n",
      " |  \n",
      " |  render(self, *args, **kwargs) -> Union[~RenderFrame, List[~RenderFrame], NoneType]\n",
      " |      Renders the environment.\n",
      " |  \n",
      " |  ----------------------------------------------------------------------\n",
      " |  Class methods inherited from gym.core.Wrapper:\n",
      " |  \n",
      " |  class_name() from builtins.type\n",
      " |      Returns the class name of the wrapper.\n",
      " |  \n",
      " |  ----------------------------------------------------------------------\n",
      " |  Readonly properties inherited from gym.core.Wrapper:\n",
      " |  \n",
      " |  render_mode\n",
      " |      Returns the environment render_mode.\n",
      " |  \n",
      " |  spec\n",
      " |      Returns the environment specification.\n",
      " |  \n",
      " |  unwrapped\n",
      " |      Returns the base environment of the wrapper.\n",
      " |  \n",
      " |  ----------------------------------------------------------------------\n",
      " |  Data descriptors inherited from gym.core.Wrapper:\n",
      " |  \n",
      " |  action_space\n",
      " |      Returns the action space of the environment.\n",
      " |  \n",
      " |  metadata\n",
      " |      Returns the environment metadata.\n",
      " |  \n",
      " |  np_random\n",
      " |      Returns the environment np_random.\n",
      " |  \n",
      " |  observation_space\n",
      " |      Returns the observation space of the environment.\n",
      " |  \n",
      " |  reward_range\n",
      " |      Return the reward range of the environment.\n",
      " |  \n",
      " |  ----------------------------------------------------------------------\n",
      " |  Data and other attributes inherited from gym.core.Wrapper:\n",
      " |  \n",
      " |  __orig_bases__ = (gym.core.Env[~ObsType, ~ActType],)\n",
      " |  \n",
      " |  ----------------------------------------------------------------------\n",
      " |  Methods inherited from gym.core.Env:\n",
      " |  \n",
      " |  __enter__(self)\n",
      " |      Support with-statement for the environment.\n",
      " |  \n",
      " |  __exit__(self, *args)\n",
      " |      Support with-statement for the environment.\n",
      " |  \n",
      " |  ----------------------------------------------------------------------\n",
      " |  Data descriptors inherited from gym.core.Env:\n",
      " |  \n",
      " |  __dict__\n",
      " |      dictionary for instance variables (if defined)\n",
      " |  \n",
      " |  __weakref__\n",
      " |      list of weak references to the object (if defined)\n",
      " |  \n",
      " |  ----------------------------------------------------------------------\n",
      " |  Data and other attributes inherited from gym.core.Env:\n",
      " |  \n",
      " |  __annotations__ = {'_np_random': typing.Optional[numpy.random._generat...\n",
      " |  \n",
      " |  ----------------------------------------------------------------------\n",
      " |  Class methods inherited from typing.Generic:\n",
      " |  \n",
      " |  __class_getitem__(params) from builtins.type\n",
      " |  \n",
      " |  __init_subclass__(*args, **kwargs) from builtins.type\n",
      " |      This method is called when a class is subclassed.\n",
      " |      \n",
      " |      The default implementation does nothing. It may be\n",
      " |      overridden to extend subclasses.\n",
      "\n"
     ]
    }
   ],
   "source": [
    "help(env.envs[0])"
   ]
  },
  {
   "cell_type": "code",
   "execution_count": 9,
   "id": "9a738868",
   "metadata": {},
   "outputs": [],
   "source": [
    "states, actions, rewards, next_states, terminals, truncateds = mem.sample_numpy()"
   ]
  },
  {
   "cell_type": "code",
   "execution_count": 11,
   "id": "45ffcd05",
   "metadata": {},
   "outputs": [
    {
     "data": {
      "text/plain": [
       "(256, 1)"
      ]
     },
     "execution_count": 11,
     "metadata": {},
     "output_type": "execute_result"
    }
   ],
   "source": [
    "rewards.shape"
   ]
  },
  {
   "cell_type": "code",
   "execution_count": 12,
   "id": "7d5f87c6",
   "metadata": {},
   "outputs": [
    {
     "name": "stdout",
     "output_type": "stream",
     "text": [
      "(256, 27)\n",
      "(256,)\n"
     ]
    }
   ],
   "source": [
    "print(next_states.shape)\n",
    "print(rewards.shape)"
   ]
  },
  {
   "cell_type": "code",
   "execution_count": 7,
   "id": "9de5c391",
   "metadata": {},
   "outputs": [],
   "source": [
    "model = DynamicEnsemble(5, env)"
   ]
  },
  {
   "cell_type": "code",
   "execution_count": 8,
   "id": "25227367",
   "metadata": {},
   "outputs": [],
   "source": [
    "model.update_params(mem)"
   ]
  },
  {
   "cell_type": "code",
   "execution_count": 9,
   "id": "d1112604",
   "metadata": {},
   "outputs": [],
   "source": [
    "next_state, reward = model.forward_all(states,actions, to_cpu=False)"
   ]
  },
  {
   "cell_type": "code",
   "execution_count": 10,
   "id": "d225134a",
   "metadata": {},
   "outputs": [
    {
     "data": {
      "text/plain": [
       "torch.Size([5, 256, 27])"
      ]
     },
     "execution_count": 10,
     "metadata": {},
     "output_type": "execute_result"
    }
   ],
   "source": [
    "next_state.shape"
   ]
  },
  {
   "cell_type": "code",
   "execution_count": 16,
   "id": "1aaa3603",
   "metadata": {},
   "outputs": [],
   "source": [
    "dnet = d_network(obs_dim, act_dim)\n",
    "dnet_out = dnet(states,actions)\n",
    "dnet_sample = dnet.sample(states,actions)\n",
    "\n",
    "pnet = p_network(obs_dim, act_dim)\n",
    "mean, log = pnet(states)\n",
    "pnet_sample = pnet(states)\n",
    "\n",
    "\n",
    "qnet = q_network(obs_dim, act_dim)\n",
    "qnet_out1, qnet_out2 = qnet(states,actions)"
   ]
  },
  {
   "cell_type": "code",
   "execution_count": 15,
   "id": "fee064b8",
   "metadata": {
    "scrolled": true
   },
   "outputs": [
    {
     "name": "stdout",
     "output_type": "stream",
     "text": [
      "dnet\n",
      "torch.Size([15, 28])\n",
      "torch.Size([15, 28])\n",
      "torch.Size([15, 28])\n",
      "pnet\n",
      "torch.Size([15, 8])\n",
      "torch.Size([15, 8])\n"
     ]
    },
    {
     "ename": "TypeError",
     "evalue": "'tuple' object does not support item assignment",
     "output_type": "error",
     "traceback": [
      "\u001b[0;31m---------------------------------------------------------------------------\u001b[0m",
      "\u001b[0;31mTypeError\u001b[0m                                 Traceback (most recent call last)",
      "\u001b[0;32m/tmp/ipykernel_24089/3155935385.py\u001b[0m in \u001b[0;36m<module>\u001b[0;34m\u001b[0m\n\u001b[1;32m      7\u001b[0m \u001b[0mprint\u001b[0m\u001b[0;34m(\u001b[0m\u001b[0mpnet_out\u001b[0m\u001b[0;34m[\u001b[0m\u001b[0;36m0\u001b[0m\u001b[0;34m]\u001b[0m\u001b[0;34m.\u001b[0m\u001b[0mshape\u001b[0m\u001b[0;34m)\u001b[0m\u001b[0;34m\u001b[0m\u001b[0;34m\u001b[0m\u001b[0m\n\u001b[1;32m      8\u001b[0m \u001b[0mprint\u001b[0m\u001b[0;34m(\u001b[0m\u001b[0mpnet_out\u001b[0m\u001b[0;34m[\u001b[0m\u001b[0;36m1\u001b[0m\u001b[0;34m]\u001b[0m\u001b[0;34m.\u001b[0m\u001b[0mshape\u001b[0m\u001b[0;34m)\u001b[0m\u001b[0;34m\u001b[0m\u001b[0;34m\u001b[0m\u001b[0m\n\u001b[0;32m----> 9\u001b[0;31m \u001b[0mpnet_out\u001b[0m\u001b[0;34m[\u001b[0m\u001b[0;36m1\u001b[0m\u001b[0;34m]\u001b[0m \u001b[0;34m=\u001b[0m \u001b[0mtorch\u001b[0m\u001b[0;34m.\u001b[0m\u001b[0mclamp\u001b[0m\u001b[0;34m(\u001b[0m\u001b[0mpnet_out\u001b[0m\u001b[0;34m[\u001b[0m\u001b[0;36m1\u001b[0m\u001b[0;34m]\u001b[0m\u001b[0;34m,\u001b[0m \u001b[0mmin\u001b[0m\u001b[0;34m=\u001b[0m\u001b[0;34m-\u001b[0m\u001b[0;36m20\u001b[0m\u001b[0;34m,\u001b[0m \u001b[0mmax\u001b[0m\u001b[0;34m=\u001b[0m\u001b[0;36m2\u001b[0m\u001b[0;34m)\u001b[0m\u001b[0;34m\u001b[0m\u001b[0;34m\u001b[0m\u001b[0m\n\u001b[0m\u001b[1;32m     10\u001b[0m \u001b[0mprint\u001b[0m\u001b[0;34m(\u001b[0m\u001b[0mpnet_sample\u001b[0m\u001b[0;34m[\u001b[0m\u001b[0;36m0\u001b[0m\u001b[0;34m]\u001b[0m\u001b[0;34m.\u001b[0m\u001b[0mshape\u001b[0m\u001b[0;34m)\u001b[0m\u001b[0;34m\u001b[0m\u001b[0;34m\u001b[0m\u001b[0m\n\u001b[1;32m     11\u001b[0m \u001b[0mprint\u001b[0m\u001b[0;34m(\u001b[0m\u001b[0mpnet_sample\u001b[0m\u001b[0;34m[\u001b[0m\u001b[0;36m1\u001b[0m\u001b[0;34m]\u001b[0m\u001b[0;34m.\u001b[0m\u001b[0mshape\u001b[0m\u001b[0;34m)\u001b[0m\u001b[0;34m\u001b[0m\u001b[0;34m\u001b[0m\u001b[0m\n",
      "\u001b[0;31mTypeError\u001b[0m: 'tuple' object does not support item assignment"
     ]
    }
   ],
   "source": [
    "print('dnet')\n",
    "print(dnet_out[0].shape)\n",
    "print(dnet_out[1].shape)\n",
    "print(dnet_sample.shape)\n",
    "\n",
    "print('pnet')\n",
    "print(pnet_out[0].shape)\n",
    "print(pnet_out[1].shape)\n",
    "print(pnet_sample[0].shape)\n",
    "print(pnet_sample[1].shape)\n",
    "print('qnet')\n",
    "\n",
    "print(qnet_out1.shape)\n",
    "print(qnet_out2.shape)"
   ]
  },
  {
   "cell_type": "code",
   "execution_count": 28,
   "id": "0454c089",
   "metadata": {},
   "outputs": [],
   "source": []
  },
  {
   "cell_type": "code",
   "execution_count": 29,
   "id": "45b7305b",
   "metadata": {},
   "outputs": [
    {
     "name": "stdout",
     "output_type": "stream",
     "text": [
      "[ -153.34107573 -1929.95198287  -164.15092036  -108.24414074\n",
      "  -132.11390995   -38.53513028   -38.58429689   -69.08221558\n",
      "   -98.91029752   -96.75420586]\n",
      "[ 13  18  29  35  44  46  52  56  57 776]\n"
     ]
    },
    {
     "data": {
      "text/plain": [
       "(-282.96681757831664, 550.5027726641139, 112.6, 221.6051443446203)"
      ]
     },
     "execution_count": 29,
     "metadata": {},
     "output_type": "execute_result"
    }
   ],
   "source": []
  },
  {
   "cell_type": "code",
   "execution_count": 10,
   "id": "e2942550",
   "metadata": {},
   "outputs": [
    {
     "data": {
      "text/plain": [
       "[<replay_memory.MemoryElement at 0x7f2dcf275520>,\n",
       " <replay_memory.MemoryElement at 0x7f2d1c801b80>,\n",
       " <replay_memory.MemoryElement at 0x7f2dcc57d970>,\n",
       " <replay_memory.MemoryElement at 0x7f2dcc583b80>,\n",
       " <replay_memory.MemoryElement at 0x7f2dcc583310>,\n",
       " <replay_memory.MemoryElement at 0x7f2d1b9f1820>,\n",
       " <replay_memory.MemoryElement at 0x7f2d1b9f1790>,\n",
       " <replay_memory.MemoryElement at 0x7f2d1b9f1c10>,\n",
       " <replay_memory.MemoryElement at 0x7f2d1b9f1a30>,\n",
       " <replay_memory.MemoryElement at 0x7f2d1b95eee0>]"
      ]
     },
     "execution_count": 10,
     "metadata": {},
     "output_type": "execute_result"
    }
   ],
   "source": [
    "env.sample(agent=agent)"
   ]
  },
  {
   "cell_type": "code",
   "execution_count": 13,
   "id": "f57d971f",
   "metadata": {},
   "outputs": [
    {
     "name": "stderr",
     "output_type": "stream",
     "text": [
      "/home/boz/Desktop/is/WS2223/RL/code/utils.py:48: UserWarning: Creating a tensor from a list of numpy.ndarrays is extremely slow. Please consider converting the list to a single numpy.ndarray with numpy.array() before converting to a tensor. (Triggered internally at ../torch/csrc/utils/tensor_new.cpp:230.)\n",
      "  x = torch.tensor(x)\n"
     ]
    }
   ],
   "source": [
    "actions, log_prob = agent.act(env.current_states, to_cpu= True)"
   ]
  },
  {
   "cell_type": "code",
   "execution_count": 20,
   "id": "b7c08a4a",
   "metadata": {},
   "outputs": [],
   "source": [
    "next_state, reward, terminal,truncated, info = env.envs[0].step(actions[0])"
   ]
  },
  {
   "cell_type": "code",
   "execution_count": null,
   "id": "3ec2f263",
   "metadata": {},
   "outputs": [],
   "source": [
    "actions"
   ]
  },
  {
   "cell_type": "code",
   "execution_count": 12,
   "id": "384b5621",
   "metadata": {},
   "outputs": [
    {
     "data": {
      "text/plain": [
       "[<replay_memory.MemoryElement at 0x7f548bca7bb0>,\n",
       " <replay_memory.MemoryElement at 0x7f548bca7580>,\n",
       " <replay_memory.MemoryElement at 0x7f553e6e8070>,\n",
       " <replay_memory.MemoryElement at 0x7f553e6e8190>,\n",
       " <replay_memory.MemoryElement at 0x7f548adf7610>,\n",
       " <replay_memory.MemoryElement at 0x7f548adf72b0>,\n",
       " <replay_memory.MemoryElement at 0x7f548adf79a0>,\n",
       " <replay_memory.MemoryElement at 0x7f548adf7730>,\n",
       " <replay_memory.MemoryElement at 0x7f548adf77c0>,\n",
       " <replay_memory.MemoryElement at 0x7f548adf7a60>]"
      ]
     },
     "execution_count": 12,
     "metadata": {},
     "output_type": "execute_result"
    }
   ],
   "source": [
    "env.sample()"
   ]
  },
  {
   "cell_type": "code",
   "execution_count": 35,
   "id": "604d4e1f",
   "metadata": {},
   "outputs": [],
   "source": [
    "low = env.envs[0].action_space.low[0]\n",
    "high = env.envs[0].action_space.high[0]\n",
    "shape = env.envs[0].action_space.shape[0]"
   ]
  },
  {
   "cell_type": "code",
   "execution_count": 41,
   "id": "d42c2294",
   "metadata": {},
   "outputs": [
    {
     "data": {
      "text/plain": [
       "array([[-0.75605283,  0.45315103, -0.44038071, -0.39918371,  0.89899447,\n",
       "         0.57142034, -0.92090965,  0.10834664],\n",
       "       [ 0.83571983, -0.89634548,  0.61270025, -0.11024773, -0.87044899,\n",
       "        -0.20681211, -0.26284156, -0.53893266],\n",
       "       [ 0.58053186, -0.22375027,  0.99358448, -0.83943068,  0.93893273,\n",
       "        -0.51941789,  0.20930903, -0.83049272],\n",
       "       [-0.2948783 ,  0.60855263,  0.23502916,  0.51622193,  0.94318343,\n",
       "         0.02795306,  0.89869769,  0.14365305],\n",
       "       [-0.1572034 , -0.16973196, -0.97560081, -0.05422376, -0.67944308,\n",
       "         0.04657044,  0.22074123,  0.28020859],\n",
       "       [ 0.85764886,  0.03316789, -0.64132589, -0.98379484,  0.91148541,\n",
       "         0.32669071,  0.16841558,  0.49973345],\n",
       "       [-0.37111905,  0.74332585,  0.79130651, -0.44536933, -0.3662349 ,\n",
       "        -0.69318974,  0.45024328,  0.95528467],\n",
       "       [-0.13737883, -0.04238112, -0.70547295, -0.72003842,  0.65047193,\n",
       "         0.20711383,  0.86395475,  0.32057053],\n",
       "       [ 0.54411852, -0.21632309, -0.24813499,  0.51470579,  0.14395218,\n",
       "        -0.25200838, -0.750464  ,  0.88812082],\n",
       "       [ 0.92484704,  0.40332342,  0.61790539,  0.74641524,  0.2685433 ,\n",
       "        -0.9784421 ,  0.9286276 , -0.43588283]])"
      ]
     },
     "execution_count": 41,
     "metadata": {},
     "output_type": "execute_result"
    }
   ],
   "source": [
    "np.random.uniform(low,high,size = (10,shape))"
   ]
  },
  {
   "cell_type": "code",
   "execution_count": 44,
   "id": "8cc41151",
   "metadata": {},
   "outputs": [],
   "source": [
    "actions, log_probs = agent.act(np.asarray([env.current_states[0]]), to_cpu = True)"
   ]
  },
  {
   "cell_type": "code",
   "execution_count": 45,
   "id": "07fe9006",
   "metadata": {},
   "outputs": [
    {
     "data": {
      "text/plain": [
       "(1, 8)"
      ]
     },
     "execution_count": 45,
     "metadata": {},
     "output_type": "execute_result"
    }
   ],
   "source": [
    "actions.shape"
   ]
  },
  {
   "cell_type": "code",
   "execution_count": 49,
   "id": "001c570b",
   "metadata": {},
   "outputs": [
    {
     "data": {
      "text/plain": [
       "[<TimeLimit<OrderEnforcing<PassiveEnvChecker<AntEnv<Ant-v4>>>>>,\n",
       " <TimeLimit<OrderEnforcing<PassiveEnvChecker<AntEnv<Ant-v4>>>>>,\n",
       " <TimeLimit<OrderEnforcing<PassiveEnvChecker<AntEnv<Ant-v4>>>>>,\n",
       " <TimeLimit<OrderEnforcing<PassiveEnvChecker<AntEnv<Ant-v4>>>>>,\n",
       " <TimeLimit<OrderEnforcing<PassiveEnvChecker<AntEnv<Ant-v4>>>>>,\n",
       " <TimeLimit<OrderEnforcing<PassiveEnvChecker<AntEnv<Ant-v4>>>>>,\n",
       " <TimeLimit<OrderEnforcing<PassiveEnvChecker<AntEnv<Ant-v4>>>>>,\n",
       " <TimeLimit<OrderEnforcing<PassiveEnvChecker<AntEnv<Ant-v4>>>>>,\n",
       " <TimeLimit<OrderEnforcing<PassiveEnvChecker<AntEnv<Ant-v4>>>>>,\n",
       " <TimeLimit<OrderEnforcing<PassiveEnvChecker<AntEnv<Ant-v4>>>>>]"
      ]
     },
     "execution_count": 49,
     "metadata": {},
     "output_type": "execute_result"
    }
   ],
   "source": [
    "env.envs"
   ]
  },
  {
   "cell_type": "code",
   "execution_count": 16,
   "id": "2914b3a9",
   "metadata": {},
   "outputs": [],
   "source": [
    "env.reset()"
   ]
  },
  {
   "cell_type": "code",
   "execution_count": 19,
   "id": "fef70628",
   "metadata": {},
   "outputs": [],
   "source": [
    "next_state, reward, terminal,truncated, info = env.envs[0].step(env.action_space.sample())"
   ]
  },
  {
   "cell_type": "code",
   "execution_count": 20,
   "id": "2e952058",
   "metadata": {},
   "outputs": [
    {
     "data": {
      "text/plain": [
       "-0.3518987618771099"
      ]
     },
     "execution_count": 20,
     "metadata": {},
     "output_type": "execute_result"
    }
   ],
   "source": [
    "reward"
   ]
  },
  {
   "cell_type": "code",
   "execution_count": 21,
   "id": "55f2b0c0",
   "metadata": {},
   "outputs": [
    {
     "data": {
      "text/plain": [
       "{'reward_forward': -0.5192271195736431,\n",
       " 'reward_ctrl': -0.8326716423034668,\n",
       " 'reward_survive': 1.0,\n",
       " 'x_position': 0.41163037620499576,\n",
       " 'y_position': -0.17830548141839356,\n",
       " 'distance_from_origin': 0.44858935711685294,\n",
       " 'x_velocity': -0.5192271195736431,\n",
       " 'y_velocity': 0.6607935496364303,\n",
       " 'forward_reward': -0.5192271195736431}"
      ]
     },
     "execution_count": 21,
     "metadata": {},
     "output_type": "execute_result"
    }
   ],
   "source": [
    "info"
   ]
  },
  {
   "cell_type": "code",
   "execution_count": 1,
   "id": "acb42112",
   "metadata": {},
   "outputs": [
    {
     "ename": "NameError",
     "evalue": "name 'env' is not defined",
     "output_type": "error",
     "traceback": [
      "\u001b[0;31m---------------------------------------------------------------------------\u001b[0m",
      "\u001b[0;31mNameError\u001b[0m                                 Traceback (most recent call last)",
      "\u001b[0;32m/tmp/ipykernel_51056/1105448381.py\u001b[0m in \u001b[0;36m<module>\u001b[0;34m\u001b[0m\n\u001b[0;32m----> 1\u001b[0;31m \u001b[0menv\u001b[0m\u001b[0;34m.\u001b[0m\u001b[0msample\u001b[0m\u001b[0;34m(\u001b[0m\u001b[0magent\u001b[0m\u001b[0;34m=\u001b[0m\u001b[0magent\u001b[0m\u001b[0;34m)\u001b[0m\u001b[0;34m\u001b[0m\u001b[0;34m\u001b[0m\u001b[0m\n\u001b[0m",
      "\u001b[0;31mNameError\u001b[0m: name 'env' is not defined"
     ]
    }
   ],
   "source": [
    "env.sample(agent=agent)"
   ]
  },
  {
   "cell_type": "code",
   "execution_count": 12,
   "id": "566a6e06",
   "metadata": {},
   "outputs": [],
   "source": [
    "env = gym.make('HalfCheetah-v4')"
   ]
  },
  {
   "cell_type": "code",
   "execution_count": 21,
   "id": "ae82e452",
   "metadata": {},
   "outputs": [
    {
     "ename": "AttributeError",
     "evalue": "'HalfCheetahEnv' object has no attribute 'check_done'",
     "output_type": "error",
     "traceback": [
      "\u001b[0;31m---------------------------------------------------------------------------\u001b[0m",
      "\u001b[0;31mAttributeError\u001b[0m                            Traceback (most recent call last)",
      "\u001b[0;32m/tmp/ipykernel_206377/3815539898.py\u001b[0m in \u001b[0;36m<module>\u001b[0;34m\u001b[0m\n\u001b[0;32m----> 1\u001b[0;31m \u001b[0menv\u001b[0m\u001b[0;34m.\u001b[0m\u001b[0menv\u001b[0m\u001b[0;34m.\u001b[0m\u001b[0mcheck_done\u001b[0m\u001b[0;34m\u001b[0m\u001b[0;34m\u001b[0m\u001b[0m\n\u001b[0m",
      "\u001b[0;32m~/anaconda3/envs/saferl/lib/python3.9/site-packages/gym/core.py\u001b[0m in \u001b[0;36m__getattr__\u001b[0;34m(self, name)\u001b[0m\n\u001b[1;32m    239\u001b[0m         \u001b[0;32mif\u001b[0m \u001b[0mname\u001b[0m\u001b[0;34m.\u001b[0m\u001b[0mstartswith\u001b[0m\u001b[0;34m(\u001b[0m\u001b[0;34m\"_\"\u001b[0m\u001b[0;34m)\u001b[0m\u001b[0;34m:\u001b[0m\u001b[0;34m\u001b[0m\u001b[0;34m\u001b[0m\u001b[0m\n\u001b[1;32m    240\u001b[0m             \u001b[0;32mraise\u001b[0m \u001b[0mAttributeError\u001b[0m\u001b[0;34m(\u001b[0m\u001b[0;34mf\"accessing private attribute '{name}' is prohibited\"\u001b[0m\u001b[0;34m)\u001b[0m\u001b[0;34m\u001b[0m\u001b[0;34m\u001b[0m\u001b[0m\n\u001b[0;32m--> 241\u001b[0;31m         \u001b[0;32mreturn\u001b[0m \u001b[0mgetattr\u001b[0m\u001b[0;34m(\u001b[0m\u001b[0mself\u001b[0m\u001b[0;34m.\u001b[0m\u001b[0menv\u001b[0m\u001b[0;34m,\u001b[0m \u001b[0mname\u001b[0m\u001b[0;34m)\u001b[0m\u001b[0;34m\u001b[0m\u001b[0;34m\u001b[0m\u001b[0m\n\u001b[0m\u001b[1;32m    242\u001b[0m \u001b[0;34m\u001b[0m\u001b[0m\n\u001b[1;32m    243\u001b[0m     \u001b[0;34m@\u001b[0m\u001b[0mproperty\u001b[0m\u001b[0;34m\u001b[0m\u001b[0;34m\u001b[0m\u001b[0m\n",
      "\u001b[0;32m~/anaconda3/envs/saferl/lib/python3.9/site-packages/gym/core.py\u001b[0m in \u001b[0;36m__getattr__\u001b[0;34m(self, name)\u001b[0m\n\u001b[1;32m    239\u001b[0m         \u001b[0;32mif\u001b[0m \u001b[0mname\u001b[0m\u001b[0;34m.\u001b[0m\u001b[0mstartswith\u001b[0m\u001b[0;34m(\u001b[0m\u001b[0;34m\"_\"\u001b[0m\u001b[0;34m)\u001b[0m\u001b[0;34m:\u001b[0m\u001b[0;34m\u001b[0m\u001b[0;34m\u001b[0m\u001b[0m\n\u001b[1;32m    240\u001b[0m             \u001b[0;32mraise\u001b[0m \u001b[0mAttributeError\u001b[0m\u001b[0;34m(\u001b[0m\u001b[0;34mf\"accessing private attribute '{name}' is prohibited\"\u001b[0m\u001b[0;34m)\u001b[0m\u001b[0;34m\u001b[0m\u001b[0;34m\u001b[0m\u001b[0m\n\u001b[0;32m--> 241\u001b[0;31m         \u001b[0;32mreturn\u001b[0m \u001b[0mgetattr\u001b[0m\u001b[0;34m(\u001b[0m\u001b[0mself\u001b[0m\u001b[0;34m.\u001b[0m\u001b[0menv\u001b[0m\u001b[0;34m,\u001b[0m \u001b[0mname\u001b[0m\u001b[0;34m)\u001b[0m\u001b[0;34m\u001b[0m\u001b[0;34m\u001b[0m\u001b[0m\n\u001b[0m\u001b[1;32m    242\u001b[0m \u001b[0;34m\u001b[0m\u001b[0m\n\u001b[1;32m    243\u001b[0m     \u001b[0;34m@\u001b[0m\u001b[0mproperty\u001b[0m\u001b[0;34m\u001b[0m\u001b[0;34m\u001b[0m\u001b[0m\n",
      "\u001b[0;32m~/anaconda3/envs/saferl/lib/python3.9/site-packages/gym/core.py\u001b[0m in \u001b[0;36m__getattr__\u001b[0;34m(self, name)\u001b[0m\n\u001b[1;32m    239\u001b[0m         \u001b[0;32mif\u001b[0m \u001b[0mname\u001b[0m\u001b[0;34m.\u001b[0m\u001b[0mstartswith\u001b[0m\u001b[0;34m(\u001b[0m\u001b[0;34m\"_\"\u001b[0m\u001b[0;34m)\u001b[0m\u001b[0;34m:\u001b[0m\u001b[0;34m\u001b[0m\u001b[0;34m\u001b[0m\u001b[0m\n\u001b[1;32m    240\u001b[0m             \u001b[0;32mraise\u001b[0m \u001b[0mAttributeError\u001b[0m\u001b[0;34m(\u001b[0m\u001b[0;34mf\"accessing private attribute '{name}' is prohibited\"\u001b[0m\u001b[0;34m)\u001b[0m\u001b[0;34m\u001b[0m\u001b[0;34m\u001b[0m\u001b[0m\n\u001b[0;32m--> 241\u001b[0;31m         \u001b[0;32mreturn\u001b[0m \u001b[0mgetattr\u001b[0m\u001b[0;34m(\u001b[0m\u001b[0mself\u001b[0m\u001b[0;34m.\u001b[0m\u001b[0menv\u001b[0m\u001b[0;34m,\u001b[0m \u001b[0mname\u001b[0m\u001b[0;34m)\u001b[0m\u001b[0;34m\u001b[0m\u001b[0;34m\u001b[0m\u001b[0m\n\u001b[0m\u001b[1;32m    242\u001b[0m \u001b[0;34m\u001b[0m\u001b[0m\n\u001b[1;32m    243\u001b[0m     \u001b[0;34m@\u001b[0m\u001b[0mproperty\u001b[0m\u001b[0;34m\u001b[0m\u001b[0;34m\u001b[0m\u001b[0m\n",
      "\u001b[0;31mAttributeError\u001b[0m: 'HalfCheetahEnv' object has no attribute 'check_done'"
     ]
    }
   ],
   "source": [
    "env.env.check_done"
   ]
  },
  {
   "cell_type": "code",
   "execution_count": 62,
   "id": "dfd5ff9f",
   "metadata": {},
   "outputs": [
    {
     "data": {
      "text/plain": [
       "array([ True,  True,  True,  True,  True,  True,  True, False,  True,\n",
       "        True])"
      ]
     },
     "execution_count": 62,
     "metadata": {},
     "output_type": "execute_result"
    }
   ],
   "source": [
    "states = np.asarray([env.observation_space.sample() for i in range(10)])\n",
    "\n",
    "\n",
    "check_hopper_done(states)"
   ]
  },
  {
   "cell_type": "code",
   "execution_count": 24,
   "id": "94228e30",
   "metadata": {},
   "outputs": [],
   "source": [
    "def check_hopper_done(states):\n",
    "    if len(states.shape) == 1:\n",
    "        states = states.reshape(1,-1)\n",
    "    heights, angs = states[:,0], states[:,1]\n",
    "    return ~(np.isfinite(states).all(axis=1) & (np.abs(states[:,1:]) < 100).all(axis=1) & (heights > .7) & (np.abs(angs) < .2))"
   ]
  },
  {
   "cell_type": "code",
   "execution_count": 58,
   "id": "af98c691",
   "metadata": {},
   "outputs": [],
   "source": []
  },
  {
   "cell_type": "code",
   "execution_count": null,
   "id": "80c7741b",
   "metadata": {},
   "outputs": [],
   "source": []
  }
 ],
 "metadata": {
  "kernelspec": {
   "display_name": "Python 3 (ipykernel)",
   "language": "python",
   "name": "python3"
  },
  "language_info": {
   "codemirror_mode": {
    "name": "ipython",
    "version": 3
   },
   "file_extension": ".py",
   "mimetype": "text/x-python",
   "name": "python",
   "nbconvert_exporter": "python",
   "pygments_lexer": "ipython3",
   "version": "3.9.13"
  }
 },
 "nbformat": 4,
 "nbformat_minor": 5
}
